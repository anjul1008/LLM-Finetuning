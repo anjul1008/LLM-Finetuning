{
 "cells": [
  {
   "cell_type": "markdown",
   "id": "fe80a4bb-ee3b-453f-920c-95289faf82dc",
   "metadata": {},
   "source": [
    "# Finetuning data: compare to pretraining and basic preparation"
   ]
  },
  {
   "cell_type": "code",
   "execution_count": null,
   "id": "2eaef890-24d3-4ff9-b32a-5fe5e28744fd",
   "metadata": {},
   "outputs": [],
   "source": [
    "import jsonlines\n",
    "import itertools\n",
    "import pandas as pd\n",
    "from pprint import pprint\n",
    "\n",
    "import datasets\n",
    "from datasets import load_dataset"
   ]
  },
  {
   "cell_type": "markdown",
   "id": "6b53062a-9379-450d-a49b-28553f2d8a76",
   "metadata": {},
   "source": [
    "### Look at pretraining data set"
   ]
  },
  {
   "cell_type": "markdown",
   "id": "d3eff868-8dab-4166-871b-10d7f67434d2",
   "metadata": {},
   "source": [
    "**Sorry**, \"The Pile\" dataset is currently relocating to a new home and so we can't show you the same example that is in the video. Here is another dataset, the [\"Common Crawl\"](https://huggingface.co/datasets/c4) dataset."
   ]
  },
  {
   "cell_type": "code",
   "execution_count": null,
   "id": "ffdea519-27e0-496f-aa65-5cdd4875a12c",
   "metadata": {},
   "outputs": [],
   "source": [
    "#pretrained_dataset = load_dataset(\"EleutherAI/pile\", split=\"train\", streaming=True)\n",
    "\n",
    "pretrained_dataset = load_dataset(\"c4\", \"en\", split=\"train\", streaming=True)\n"
   ]
  },
  {
   "cell_type": "code",
   "execution_count": null,
   "id": "f51e1bba-6aa6-47c2-9c17-2a24548ede5a",
   "metadata": {},
   "outputs": [],
   "source": [
    "n = 5\n",
    "print(\"Pretrained dataset:\")\n",
    "top_n = itertools.islice(pretrained_dataset, n)\n",
    "for i in top_n:\n",
    "  print(i)"
   ]
  },
  {
   "cell_type": "markdown",
   "id": "8716ded5-89da-4789-80b1-ea8b1457ae6d",
   "metadata": {},
   "source": [
    "### Contrast with company finetuning dataset you will be using"
   ]
  },
  {
   "cell_type": "code",
   "execution_count": null,
   "id": "410f39f1-dbdf-4c0e-9729-fcfa4a3991cb",
   "metadata": {},
   "outputs": [],
   "source": [
    "filename = \"lamini_docs.jsonl\"\n",
    "instruction_dataset_df = pd.read_json(filename, lines=True)\n",
    "instruction_dataset_df"
   ]
  },
  {
   "cell_type": "markdown",
   "id": "c6bbb67c-cec4-4eb9-a343-82bce2fe856b",
   "metadata": {},
   "source": [
    "### Various ways of formatting your data"
   ]
  },
  {
   "cell_type": "code",
   "execution_count": null,
   "id": "6c5e7f74-d0e8-4c2b-a1d2-df4a60dc14e2",
   "metadata": {},
   "outputs": [],
   "source": [
    "examples = instruction_dataset_df.to_dict()\n",
    "text = examples[\"question\"][0] + examples[\"answer\"][0]\n",
    "text"
   ]
  },
  {
   "cell_type": "code",
   "execution_count": null,
   "id": "6de087b1-00d6-4e16-8a57-9e5cfef712ee",
   "metadata": {},
   "outputs": [],
   "source": [
    "if \"question\" in examples and \"answer\" in examples:\n",
    "  text = examples[\"question\"][0] + examples[\"answer\"][0]\n",
    "elif \"instruction\" in examples and \"response\" in examples:\n",
    "  text = examples[\"instruction\"][0] + examples[\"response\"][0]\n",
    "elif \"input\" in examples and \"output\" in examples:\n",
    "  text = examples[\"input\"][0] + examples[\"output\"][0]\n",
    "else:\n",
    "  text = examples[\"text\"][0]"
   ]
  },
  {
   "cell_type": "code",
   "execution_count": null,
   "id": "b8f8ecaf-a7f5-4790-b902-6ce37ec54f8a",
   "metadata": {},
   "outputs": [],
   "source": [
    "prompt_template_qa = \"\"\"### Question:\n",
    "{question}\n",
    "\n",
    "### Answer:\n",
    "{answer}\"\"\""
   ]
  },
  {
   "cell_type": "code",
   "execution_count": null,
   "id": "99405cf2-e68f-4cf5-96b4-64475edb4019",
   "metadata": {},
   "outputs": [],
   "source": [
    "question = examples[\"question\"][0]\n",
    "answer = examples[\"answer\"][0]\n",
    "\n",
    "text_with_prompt_template = prompt_template_qa.format(question=question, answer=answer)\n",
    "text_with_prompt_template"
   ]
  },
  {
   "cell_type": "code",
   "execution_count": null,
   "id": "230a1ebf-db01-43c7-8716-80104ccefe15",
   "metadata": {},
   "outputs": [],
   "source": [
    "prompt_template_q = \"\"\"### Question:\n",
    "{question}\n",
    "\n",
    "### Answer:\"\"\""
   ]
  },
  {
   "cell_type": "code",
   "execution_count": null,
   "id": "3a9a500e-b0ee-4c4e-b93e-542248eccba1",
   "metadata": {},
   "outputs": [],
   "source": [
    "num_examples = len(examples[\"question\"])\n",
    "finetuning_dataset_text_only = []\n",
    "finetuning_dataset_question_answer = []\n",
    "for i in range(num_examples):\n",
    "  question = examples[\"question\"][i]\n",
    "  answer = examples[\"answer\"][i]\n",
    "\n",
    "  text_with_prompt_template_qa = prompt_template_qa.format(question=question, answer=answer)\n",
    "  finetuning_dataset_text_only.append({\"text\": text_with_prompt_template_qa})\n",
    "\n",
    "  text_with_prompt_template_q = prompt_template_q.format(question=question)\n",
    "  finetuning_dataset_question_answer.append({\"question\": text_with_prompt_template_q, \"answer\": answer})"
   ]
  },
  {
   "cell_type": "code",
   "execution_count": null,
   "id": "7309d49e-0caa-480a-a4cf-3d567d39c2e9",
   "metadata": {},
   "outputs": [],
   "source": [
    "pprint(finetuning_dataset_text_only[0])"
   ]
  },
  {
   "cell_type": "code",
   "execution_count": null,
   "id": "8e2bb9ae-51bd-47a5-a317-af1894e39bb7",
   "metadata": {},
   "outputs": [],
   "source": [
    "pprint(finetuning_dataset_question_answer[0])"
   ]
  },
  {
   "cell_type": "markdown",
   "id": "eb3b871f-29cc-4f2b-bb9b-8bc7a0e6ad1a",
   "metadata": {},
   "source": [
    "### Common ways of storing your data"
   ]
  },
  {
   "cell_type": "code",
   "execution_count": null,
   "id": "99aa5384-8438-4add-a928-48d07629227c",
   "metadata": {},
   "outputs": [],
   "source": [
    "with jsonlines.open(f'lamini_docs_processed.jsonl', 'w') as writer:\n",
    "    writer.write_all(finetuning_dataset_question_answer)"
   ]
  },
  {
   "cell_type": "code",
   "execution_count": null,
   "id": "7f803ae4-16bf-4e44-b5dc-afc268ec3ede",
   "metadata": {},
   "outputs": [],
   "source": [
    "finetuning_dataset_name = \"lamini/lamini_docs\"\n",
    "finetuning_dataset = load_dataset(finetuning_dataset_name)\n",
    "print(finetuning_dataset)"
   ]
  },
  {
   "cell_type": "code",
   "execution_count": null,
   "id": "0cbf0cd3-d6cf-47df-9c7e-1612558df9c7",
   "metadata": {},
   "outputs": [],
   "source": []
  }
 ],
 "metadata": {
  "kernelspec": {
   "display_name": "Python 3 (ipykernel)",
   "language": "python",
   "name": "python3"
  },
  "language_info": {
   "codemirror_mode": {
    "name": "ipython",
    "version": 3
   },
   "file_extension": ".py",
   "mimetype": "text/x-python",
   "name": "python",
   "nbconvert_exporter": "python",
   "pygments_lexer": "ipython3",
   "version": "3.11.4"
  }
 },
 "nbformat": 4,
 "nbformat_minor": 5
}
